{
 "cells": [
  {
   "cell_type": "code",
   "execution_count": 20,
   "id": "cebc0820-290a-4119-8538-859dd3bc0414",
   "metadata": {},
   "outputs": [],
   "source": [
    "from glob import glob\n",
    "import os\n",
    "\n",
    "datadir = './csvOutput/'\n",
    "outdir = './new_curves/'\n",
    "#SSBDRcurves = {\n",
    "               #  'Ch1': './therm_cal_curves/Pt1557.340',\n",
    "               # 'Ch2': './therm_cal_curvess/prime-cam_DR_curves/X157535.340'},\n",
    "                # 'Ch5': './therm_cal_curves/x134059.340',\n",
    "               #'Ch6': './therm_cal_curves/prime-cam_DR_curves/R30197.340'}\n",
    "SSBDRcurves = { 'Ch2': './therm_cal_curvess/prime-cam_DR_curves/X157535.340'}\n",
    "\n",
    "\n",
    "\n",
    "#masterdict = {'U09980': {'Ch': '7', 'SensorModel': 'RX-102A-CD', 'minT': 0.05, 'CalCh': '6', 'minc': 0, 'maxc': 9e9,\n",
    " #                         'Cooldown': 'SSBDR_cal_data_2023_05_10_16_00_00', 'polyN': 4},\n",
    "  #            'U09984': {'Ch': '8', 'SensorModel': 'RX-102A-CD', 'minT': 0.05, 'CalCh': '6', 'minc': 0, 'maxc': 9e9,\n",
    "   #                       'Cooldown': 'SSBDR_cal_data_2023_05_10_16_00_00', 'polyN': 4}}\n",
    "    \n",
    "masterdict = {'X186994': {'Ch': '3', 'SensorModel': 'CX-1080-CD', 'minT': 10.0, 'CalCh': '2', 'minc': 0, 'maxc': 9e9,\n",
    "                          'Cooldown': 'SSBDR_cal_data_2023_05_09_11_00_00', 'polyN': 7},\n",
    "              'X186997': {'Ch': '4', 'SensorModel': 'CX-1080-CD', 'minT': 10.0, 'CalCh': '2', 'minc': 0, 'maxc': 9e9,\n",
    "                          'Cooldown': 'SSBDR_cal_data_2023_05_09_11_00_00', 'polyN': 7}}\n",
    "\n"
   ]
  },
  {
   "cell_type": "code",
   "execution_count": 21,
   "id": "8ee9a850-7955-4629-966c-445324c987a5",
   "metadata": {},
   "outputs": [
    {
     "name": "stdout",
     "output_type": "stream",
     "text": [
      "CX-1080-CD X186994 1 of 2\n",
      "CX-1080-CD X186997 2 of 2\n"
     ]
    }
   ],
   "source": [
    "Nsn = len(masterdict)\n",
    "for isn,sn in enumerate(masterdict.keys()):\n",
    "    model  = masterdict[sn]['SensorModel']\n",
    "    # if 'CX-1050-CU-HT' not in model: continue;\n",
    "    print(model,sn,'%d of %d'%(isn+1,Nsn))\n",
    "    ucalfn = glob('%s/%s_ch%s.csv'%(datadir,masterdict[sn]['Cooldown'],masterdict[sn]['Ch']))[0]\n",
    "    calfn  = glob('%s/%s_ch%s.csv'%(datadir,masterdict[sn]['Cooldown'],masterdict[sn]['CalCh']))[0]\n",
    "    reffn = SSBDRcurves['Ch%s' % masterdict[sn]['CalCh']]\n",
    "    outfn  = outdir+model+'_'+sn+'_v2'+'.340' #'.curve'\n",
    "    plotfn = outdir+model+'_'+sn+'_v2'+'.pdf'\n",
    "    #polyN  = '4'\n",
    "    polyN   = masterdict[sn]['polyN']\n",
    "    minT   = masterdict[sn]['minT']\n",
    "    minc   = masterdict[sn]['minc']\n",
    "    maxc   = masterdict[sn]['maxc']\n",
    "    \n",
    "    args = (ucalfn,calfn,reffn,outfn,plotfn,polyN,model,sn,minT,minc,maxc)\n",
    "    # cmd = 'python3 therm_cal_v2.py -uc  %s -dc %s -rc %s -of %s -pf %s -p %s -sm %s -sn %s -minT %f -minc %d -maxc %d'%args\n",
    "    # print(cmd)\n",
    "    # os.system(cmd)\n",
    "    # print()"
   ]
  },
  {
   "cell_type": "code",
   "execution_count": null,
   "id": "38fa9291-6324-4a27-a9bf-a75ddeb15364",
   "metadata": {},
   "outputs": [],
   "source": []
  }
 ],
 "metadata": {
  "kernelspec": {
   "display_name": "Python 3 (ipykernel)",
   "language": "python",
   "name": "python3"
  },
  "language_info": {
   "codemirror_mode": {
    "name": "ipython",
    "version": 3
   },
   "file_extension": ".py",
   "mimetype": "text/x-python",
   "name": "python",
   "nbconvert_exporter": "python",
   "pygments_lexer": "ipython3",
   "version": "3.8.10"
  }
 },
 "nbformat": 4,
 "nbformat_minor": 5
}
